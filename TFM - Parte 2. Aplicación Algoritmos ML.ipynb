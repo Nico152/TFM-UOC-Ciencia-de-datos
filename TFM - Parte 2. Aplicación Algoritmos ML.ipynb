{
 "cells": [
  {
   "cell_type": "markdown",
   "metadata": {},
   "source": [
    "# TFM. Parte  2. Aplicación de diferentes algoritmos de Machine Learning\n",
    "\n",
    "\n",
    "Después de haber preparado el conjunto de datos a tratar, aplicaremos los siguientes algoritmos de Machine Learning para predecir si un siniestro es un fraude o no:\n",
    "* Regresión Logística\n",
    "* Decision Tree\n",
    "* Random_Forest\n",
    "* Naïve Bayes\n",
    "* XGBoost"
   ]
  },
  {
   "cell_type": "code",
   "execution_count": 1,
   "metadata": {},
   "outputs": [],
   "source": [
    "import numpy as np\n",
    "import pandas as pd\n",
    "import seaborn as sns\n",
    "import matplotlib.pyplot as plt\n",
    "from sklearn.metrics import accuracy_score,confusion_matrix,classification_report\n",
    "import warnings\n",
    "warnings.filterwarnings('ignore')"
   ]
  },
  {
   "cell_type": "markdown",
   "metadata": {},
   "source": [
    "## 1. Creación de conjuntos de entrenamiento y test"
   ]
  },
  {
   "cell_type": "markdown",
   "metadata": {},
   "source": [
    "Primero de todo, cargamos los ficheros preparados del conjunto de datos a analizar:"
   ]
  },
  {
   "cell_type": "code",
   "execution_count": 2,
   "metadata": {},
   "outputs": [],
   "source": [
    "x_Dummies_Boruta = pd.read_csv('x_Dummies_Boruta.csv')\n",
    "x_Dummies_PCA = np.loadtxt('x_Dummies_PCA.csv', delimiter=',')\n",
    "y_Dummies = pd.read_csv('y_Dummies.csv')"
   ]
  },
  {
   "cell_type": "code",
   "execution_count": 3,
   "metadata": {},
   "outputs": [],
   "source": [
    "from sklearn.model_selection import train_test_split\n",
    "x_train_Boruta,x_test_Boruta,y_train_Boruta,y_test_Boruta=train_test_split(x_Dummies_Boruta,\n",
    "                                                                           y_Dummies,test_size=0.2, random_state= 15)\n",
    "\n",
    "x_train_PCA,x_test_PCA,y_train_PCA,y_test_PCA=train_test_split(x_Dummies_PCA,y_Dummies,\n",
    "                                                                               test_size=0.2, random_state= 15)"
   ]
  },
  {
   "cell_type": "markdown",
   "metadata": {},
   "source": [
    "## 2. Regresión Logística:"
   ]
  },
  {
   "cell_type": "markdown",
   "metadata": {},
   "source": [
    "Procedemos a entrenar el modelo de regresión logística con los datos de siniestros:\n"
   ]
  },
  {
   "cell_type": "code",
   "execution_count": 4,
   "metadata": {},
   "outputs": [],
   "source": [
    "from sklearn.linear_model import LogisticRegression\n",
    "\n",
    "#iniciamos los diferentes modelos con los parámetros por defecto\n",
    "LogReg_Boruta = LogisticRegression()\n",
    "LogReg_PCA = LogisticRegression()\n",
    "\n",
    "# entrenamos el modelo\n",
    "LogReg_Boruta.fit(x_train_Boruta,y_train_Boruta)\n",
    "LogReg_PCA.fit(x_train_PCA,y_train_PCA)\n",
    "\n",
    "#\n",
    "y_pred_Boruta = LogReg_Boruta.predict(x_test_Boruta)\n",
    "y_pred_PCA = LogReg_PCA.predict(x_test_PCA)"
   ]
  },
  {
   "cell_type": "code",
   "execution_count": 5,
   "metadata": {},
   "outputs": [
    {
     "name": "stdout",
     "output_type": "stream",
     "text": [
      "Training - Precisión con Boruta: 56.64%\n",
      "Training - Precisión con PCA: 83.89%\n"
     ]
    }
   ],
   "source": [
    "print(\"Training - Precisión con Boruta: \"+str(round(accuracy_score(y_train_Boruta,LogReg_Boruta.predict(x_train_Boruta))*100,2))+\"%\")\n",
    "print(\"Training - Precisión con PCA: \"+str(round(accuracy_score(y_train_PCA,LogReg_PCA.predict(x_train_PCA))*100,2))+\"%\")"
   ]
  },
  {
   "cell_type": "code",
   "execution_count": 6,
   "metadata": {},
   "outputs": [
    {
     "name": "stdout",
     "output_type": "stream",
     "text": [
      "Test - Precisión con Boruta: 55.96%\n",
      "Test - Precisión con PCA: 89.4%\n"
     ]
    }
   ],
   "source": [
    "print(\"Test - Precisión con Boruta: \"+str(round(accuracy_score(y_test_Boruta,y_pred_Boruta)*100,2))+\"%\")\n",
    "print(\"Test - Precisión con PCA: \"+str(round(accuracy_score(y_test_PCA,y_pred_PCA)*100,2))+\"%\")"
   ]
  },
  {
   "cell_type": "markdown",
   "metadata": {},
   "source": [
    "Obtenemos una muy buena precisión con el conjunto de datos obtenido tras aplicar PCA."
   ]
  },
  {
   "cell_type": "code",
   "execution_count": 7,
   "metadata": {},
   "outputs": [
    {
     "data": {
      "text/plain": [
       "array(['months_as_customer', 'total_claim_amount', 'injury_claim',\n",
       "       'property_claim', 'vehicle_claim',\n",
       "       'incident_severity_Minor Damage', 'incident_severity_Total Loss'],\n",
       "      dtype=object)"
      ]
     },
     "execution_count": 7,
     "metadata": {},
     "output_type": "execute_result"
    }
   ],
   "source": [
    "LogReg_Boruta.feature_names_in_"
   ]
  },
  {
   "cell_type": "code",
   "execution_count": 8,
   "metadata": {},
   "outputs": [
    {
     "data": {
      "image/png": "[encoded data removed]",
      "text/plain": [
       "<Figure size 1152x432 with 4 Axes>"
      ]
     },
     "metadata": {
      "needs_background": "light"
     },
     "output_type": "display_data"
    }
   ],
   "source": [
    "\n",
    "fig1, ax1 = plt.subplots(1,2,figsize=(16,6))\n",
    "\n",
    "ConfusionMatrix_Boruta = confusion_matrix(y_pred_Boruta,y_test_Boruta)\n",
    "\n",
    "sns.heatmap(ConfusionMatrix_Boruta,annot=True,ax = ax1[0])\n",
    "ax1[0].set_title('LogReg Confusion Matrix Boruta', loc='center')\n",
    "ax1[0].set_ylabel('Test')\n",
    "ax1[0].set_xlabel('Predicted')\n",
    "\n",
    "ConfusionMatrix_PCA = confusion_matrix(y_pred_PCA,y_test_PCA)\n",
    "\n",
    "sns.heatmap(ConfusionMatrix_PCA,annot=True,ax = ax1[1])\n",
    "ax1[1].set_title('LogReg Confusion Matrix PCA', loc='center')\n",
    "ax1[1].set_ylabel('Test')\n",
    "ax1[1].set_xlabel('Predicted')\n",
    "\n",
    "plt.show()\n"
   ]
  },
  {
   "cell_type": "markdown",
   "metadata": {},
   "source": [
    "Mediante la matriz de confusión, observamos como clasifican las observaciones el modelo de regresión."
   ]
  },
  {
   "cell_type": "code",
   "execution_count": 9,
   "metadata": {},
   "outputs": [
    {
     "name": "stdout",
     "output_type": "stream",
     "text": [
      "Classification_report para la Regresión Logística con Boruta:\n",
      "              precision    recall  f1-score   support\n",
      "\n",
      "           N       0.46      0.56      0.51       122\n",
      "           Y       0.65      0.56      0.60       180\n",
      "\n",
      "    accuracy                           0.56       302\n",
      "   macro avg       0.56      0.56      0.55       302\n",
      "weighted avg       0.58      0.56      0.56       302\n",
      "\n"
     ]
    }
   ],
   "source": [
    "clf=classification_report(y_pred_Boruta,y_test_Boruta)\n",
    "print(\"Classification_report para la Regresión Logística con Boruta:\")\n",
    "print(clf)"
   ]
  },
  {
   "cell_type": "code",
   "execution_count": 10,
   "metadata": {},
   "outputs": [
    {
     "name": "stdout",
     "output_type": "stream",
     "text": [
      "Classification_report para la Regresión Logística con PCA:\n",
      "              precision    recall  f1-score   support\n",
      "\n",
      "           N       0.89      0.89      0.89       147\n",
      "           Y       0.90      0.90      0.90       155\n",
      "\n",
      "    accuracy                           0.89       302\n",
      "   macro avg       0.89      0.89      0.89       302\n",
      "weighted avg       0.89      0.89      0.89       302\n",
      "\n"
     ]
    }
   ],
   "source": [
    "clf_PCA=classification_report(y_pred_PCA,y_test_PCA)\n",
    "print(\"Classification_report para la Regresión Logística con PCA:\")\n",
    "print(clf_PCA)"
   ]
  },
  {
   "cell_type": "markdown",
   "metadata": {},
   "source": [
    "Claramente el conjunto de datos después de aplicar PCA consigue muy buenos resultados con el modelo de regresión logística, con hasta un 89% de precisión con el conjunto de test."
   ]
  },
  {
   "cell_type": "markdown",
   "metadata": {},
   "source": [
    "## 3. Decision tree"
   ]
  },
  {
   "cell_type": "markdown",
   "metadata": {},
   "source": [
    "Continuamos intentando predecir si un siniestro es fraude o no. Esta vez aplicando el algoritmo de árboles de decisión."
   ]
  },
  {
   "cell_type": "code",
   "execution_count": 11,
   "metadata": {},
   "outputs": [],
   "source": [
    "from sklearn.tree import DecisionTreeClassifier\n",
    "from sklearn.model_selection import GridSearchCV\n",
    "\n",
    "# Definición del clasificador y de los diferentes parámetros a probar\n",
    "dt = DecisionTreeClassifier()\n",
    "parameters={'criterion':['gini','entropy'], 'max_depth': np.arange(1,20)}\n",
    "\n",
    "#Iniciamos la busqueda del mejor modelo segun los parámetros a probar\n",
    "grid_DecisionTree_Boruta = GridSearchCV(dt,parameters)\n",
    "grid_DecisionTree_PCA = GridSearchCV(dt,parameters)\n",
    "\n",
    "# entrenamos el modelo\n",
    "grid_DecisionTree_Boruta.fit(x_train_Boruta,y_train_Boruta)\n",
    "grid_DecisionTree_PCA.fit(x_train_PCA,y_train_PCA)\n",
    "\n",
    "# seleccionamos el mejor modelo segun el mejor estimador:\n",
    "DecisionTree_Boruta = grid_DecisionTree_Boruta.best_estimator_\n",
    "DecisionTree_PCA = grid_DecisionTree_PCA.best_estimator_\n",
    "\n",
    "#Realizamos la predicción con los datos de prueba\n",
    "\n",
    "y_pred_Boruta = DecisionTree_Boruta.predict(x_test_Boruta)\n",
    "y_pred_PCA = DecisionTree_PCA.predict(x_test_PCA)"
   ]
  },
  {
   "cell_type": "code",
   "execution_count": 12,
   "metadata": {},
   "outputs": [
    {
     "name": "stdout",
     "output_type": "stream",
     "text": [
      "Training - Precisión con Boruta: 84.05%\n",
      "Training - Precisión con PCA: 84.05%\n"
     ]
    }
   ],
   "source": [
    "print(\"Training - Precisión con Boruta: \"+str(round(accuracy_score(y_train_Boruta,\n",
    "                                                                   DecisionTree_Boruta.predict(x_train_Boruta))*100,2))+\"%\")\n",
    "print(\"Training - Precisión con PCA: \"+str(round(accuracy_score(y_train_PCA,\n",
    "                                                                DecisionTree_PCA.predict(x_train_PCA))*100,2))+\"%\")"
   ]
  },
  {
   "cell_type": "code",
   "execution_count": 13,
   "metadata": {},
   "outputs": [
    {
     "name": "stdout",
     "output_type": "stream",
     "text": [
      "Test - Precisión con Boruta: 89.4%\n",
      "Test - Precisión con PCA: 89.4%\n"
     ]
    }
   ],
   "source": [
    "print(\"Test - Precisión con Boruta: \"+str(round(accuracy_score(y_test_Boruta,y_pred_Boruta)*100,2))+\"%\")\n",
    "print(\"Test - Precisión con PCA: \"+str(round(accuracy_score(y_test_PCA,y_pred_PCA)*100,2))+\"%\")"
   ]
  },
  {
   "cell_type": "code",
   "execution_count": 14,
   "metadata": {},
   "outputs": [
    {
     "data": {
      "image/png": "[encoded data removed]",
      "text/plain": [
       "<Figure size 1152x432 with 4 Axes>"
      ]
     },
     "metadata": {
      "needs_background": "light"
     },
     "output_type": "display_data"
    }
   ],
   "source": [
    "ConfusionMatrix_Boruta = confusion_matrix(y_pred_Boruta,y_test_Boruta)\n",
    "\n",
    "fig1, ax1 = plt.subplots(1,2,figsize=(16,6))\n",
    "sns.heatmap(ConfusionMatrix_Boruta,annot=True, ax = ax1[0])\n",
    "ax1[0].set_title('Decision Tree Confusion Matrix Boruta', loc='center')\n",
    "ax1[0].set_ylabel('Test')\n",
    "ax1[0].set_xlabel('Predicted')\n",
    "\n",
    "ConfusionMatrix_PCA = confusion_matrix(y_pred_PCA,y_test_PCA)\n",
    "\n",
    "sns.heatmap(ConfusionMatrix_PCA,annot=True,ax = ax1[1])\n",
    "ax1[1].set_title('Decision Tree Confusion Matrix PCA', loc='center')\n",
    "ax1[1].set_ylabel('Test')\n",
    "ax1[1].set_xlabel('Predicted')\n",
    "plt.show()\n"
   ]
  },
  {
   "cell_type": "code",
   "execution_count": 15,
   "metadata": {},
   "outputs": [
    {
     "name": "stdout",
     "output_type": "stream",
     "text": [
      "Classification_report para Decision Trees con Boruta:\n",
      "              precision    recall  f1-score   support\n",
      "\n",
      "           N       0.89      0.89      0.89       147\n",
      "           Y       0.90      0.90      0.90       155\n",
      "\n",
      "    accuracy                           0.89       302\n",
      "   macro avg       0.89      0.89      0.89       302\n",
      "weighted avg       0.89      0.89      0.89       302\n",
      "\n",
      "Classification_report para Decision Trees con PCA:\n",
      "              precision    recall  f1-score   support\n",
      "\n",
      "           N       0.89      0.89      0.89       147\n",
      "           Y       0.90      0.90      0.90       155\n",
      "\n",
      "    accuracy                           0.89       302\n",
      "   macro avg       0.89      0.89      0.89       302\n",
      "weighted avg       0.89      0.89      0.89       302\n",
      "\n"
     ]
    }
   ],
   "source": [
    "clf=classification_report(y_pred_Boruta,y_test_Boruta)\n",
    "print(\"Classification_report para Decision Trees con Boruta:\")\n",
    "print(clf)\n",
    "clf_PCA=classification_report(y_pred_PCA,y_test_PCA)\n",
    "print(\"Classification_report para Decision Trees con PCA:\")\n",
    "print(clf_PCA)"
   ]
  },
  {
   "cell_type": "markdown",
   "metadata": {},
   "source": [
    "Observamos como con el decision tree, tanto para el conjunto de datos con las variables de Boruta como para el conjunto de datos después de aplicar PCA, se obtiene el mismo nivel de precisión. Asimismo, con el conjunto de prueba, obtenemos mejores resultados de precisión que con los de entrenamiento."
   ]
  },
  {
   "cell_type": "markdown",
   "metadata": {},
   "source": [
    "## 4. Random Forest"
   ]
  },
  {
   "cell_type": "markdown",
   "metadata": {},
   "source": [
    "Continuamos intentando predecir si un siniestro es fraude o no. Esta vez aplicando el algoritmo de Random Forest."
   ]
  },
  {
   "cell_type": "code",
   "execution_count": 16,
   "metadata": {},
   "outputs": [],
   "source": [
    "from sklearn.ensemble import RandomForestClassifier\n",
    "\n",
    "# Definición del clasificador y de los diferentes parámetros a probar\n",
    "rf = RandomForestClassifier()\n",
    "parameters={'criterion':['gini','entropy'], 'max_depth': np.arange(1,20)}\n",
    "\n",
    "#Iniciamos la busqueda del mejor modelo segun los parámetros a probar\n",
    "grid_RF_Boruta = GridSearchCV(rf,parameters)\n",
    "grid_RF_PCA = GridSearchCV(rf,parameters)\n",
    "\n",
    "# entrenamos el modelo\n",
    "grid_RF_Boruta.fit(x_train_Boruta,y_train_Boruta)\n",
    "grid_RF_PCA.fit(x_train_PCA,y_train_PCA)\n",
    "\n",
    "# seleccionamos el mejor modelo segun el mejor estimador:\n",
    "RF_Boruta = grid_RF_Boruta.best_estimator_\n",
    "RF_PCA = grid_RF_PCA.best_estimator_\n",
    "\n",
    "#Realizamos la predicción con los datos de prueba\n",
    "\n",
    "y_pred_Boruta = RF_Boruta.predict(x_test_Boruta)\n",
    "y_pred_PCA = RF_PCA.predict(x_test_PCA)"
   ]
  },
  {
   "cell_type": "code",
   "execution_count": 17,
   "metadata": {},
   "outputs": [
    {
     "name": "stdout",
     "output_type": "stream",
     "text": [
      "Training - Precisión con Boruta: 84.8%\n",
      "Training - Precisión con PCA: 85.88%\n"
     ]
    }
   ],
   "source": [
    "print(\"Training - Precisión con Boruta: \"+str(round(accuracy_score(y_train_Boruta,\n",
    "                                                                   RF_Boruta.predict(x_train_Boruta))*100,2))+\"%\")\n",
    "print(\"Training - Precisión con PCA: \"+str(round(accuracy_score(y_train_PCA,\n",
    "                                                                RF_PCA.predict(x_train_PCA))*100,2))+\"%\")"
   ]
  },
  {
   "cell_type": "code",
   "execution_count": 18,
   "metadata": {},
   "outputs": [
    {
     "name": "stdout",
     "output_type": "stream",
     "text": [
      "Test - Precisión con Boruta: 89.4%\n",
      "Test - Precisión con PCA: 89.4%\n"
     ]
    }
   ],
   "source": [
    "print(\"Test - Precisión con Boruta: \"+str(round(accuracy_score(y_test_Boruta,y_pred_Boruta)*100,2))+\"%\")\n",
    "print(\"Test - Precisión con PCA: \"+str(round(accuracy_score(y_test_PCA,y_pred_PCA)*100,2))+\"%\")"
   ]
  },
  {
   "cell_type": "code",
   "execution_count": 19,
   "metadata": {},
   "outputs": [
    {
     "data": {
      "image/png": "[encoded data removed]",
      "text/plain": [
       "<Figure size 1152x432 with 4 Axes>"
      ]
     },
     "metadata": {
      "needs_background": "light"
     },
     "output_type": "display_data"
    }
   ],
   "source": [
    "ConfusionMatrix_Boruta = confusion_matrix(y_pred_Boruta,y_test_Boruta)\n",
    "\n",
    "fig1, ax1 = plt.subplots(1,2,figsize=(16,6))\n",
    "sns.heatmap(ConfusionMatrix_Boruta,annot=True, ax = ax1[0])\n",
    "ax1[0].set_title('Random Forest Confusion Matrix Boruta', loc='center')\n",
    "ax1[0].set_ylabel('Test')\n",
    "ax1[0].set_xlabel('Predicted')\n",
    "\n",
    "ConfusionMatrix_PCA = confusion_matrix(y_pred_PCA,y_test_PCA)\n",
    "\n",
    "sns.heatmap(ConfusionMatrix_PCA,annot=True,ax = ax1[1])\n",
    "ax1[1].set_title('Random Forest Confusion Matrix  PCA', loc='center')\n",
    "ax1[1].set_ylabel('Test')\n",
    "ax1[1].set_xlabel('Predicted')\n",
    "plt.show()"
   ]
  },
  {
   "cell_type": "code",
   "execution_count": 20,
   "metadata": {},
   "outputs": [
    {
     "name": "stdout",
     "output_type": "stream",
     "text": [
      "Classification_report para Random Forest con Boruta:\n",
      "              precision    recall  f1-score   support\n",
      "\n",
      "           N       0.89      0.89      0.89       147\n",
      "           Y       0.90      0.90      0.90       155\n",
      "\n",
      "    accuracy                           0.89       302\n",
      "   macro avg       0.89      0.89      0.89       302\n",
      "weighted avg       0.89      0.89      0.89       302\n",
      "\n",
      "Classification_report para Random Forest con PCA:\n",
      "              precision    recall  f1-score   support\n",
      "\n",
      "           N       0.89      0.89      0.89       147\n",
      "           Y       0.90      0.90      0.90       155\n",
      "\n",
      "    accuracy                           0.89       302\n",
      "   macro avg       0.89      0.89      0.89       302\n",
      "weighted avg       0.89      0.89      0.89       302\n",
      "\n"
     ]
    }
   ],
   "source": [
    "clf=classification_report(y_pred_Boruta,y_test_Boruta)\n",
    "print(\"Classification_report para Random Forest con Boruta:\")\n",
    "print(clf)\n",
    "clf_PCA=classification_report(y_pred_PCA,y_test_PCA)\n",
    "print(\"Classification_report para Random Forest con PCA:\")\n",
    "print(clf_PCA)"
   ]
  },
  {
   "cell_type": "markdown",
   "metadata": {},
   "source": [
    "En la aplicación de Random Forest, obtenemos unos resultados similares a los obtenidos con el árbol de decisión pero ligeramente mejores. Con el conjunto de datos de Boruta se consigue llegar a un 89,74% de acierto con los datos de test."
   ]
  },
  {
   "cell_type": "markdown",
   "metadata": {},
   "source": [
    "## 5. Naive bayes"
   ]
  },
  {
   "cell_type": "markdown",
   "metadata": {},
   "source": [
    "Continuamos intentando predecir si un siniestro es fraude o no. Esta vez aplicando Naive Bayes:"
   ]
  },
  {
   "cell_type": "code",
   "execution_count": 21,
   "metadata": {},
   "outputs": [],
   "source": [
    "from sklearn.naive_bayes import GaussianNB\n",
    "\n",
    "#Iniciamos la busqueda del mejor modelo segun los parámetros a probar\n",
    "GNB_Boruta = GaussianNB()\n",
    "GNB_PCA = GaussianNB()\n",
    "\n",
    "# entrenamos el modelo\n",
    "GNB_Boruta.fit(x_train_Boruta,y_train_Boruta)\n",
    "GNB_PCA.fit(x_train_PCA,y_train_PCA)\n",
    "\n",
    "\n",
    "#Realizamos la predicción con los datos de prueba\n",
    "y_pred_Boruta = GNB_Boruta.predict(x_test_Boruta)\n",
    "y_pred_PCA = GNB_PCA.predict(x_test_PCA)\n"
   ]
  },
  {
   "cell_type": "code",
   "execution_count": 22,
   "metadata": {},
   "outputs": [
    {
     "name": "stdout",
     "output_type": "stream",
     "text": [
      "Training - Precisión con Boruta: 61.38%\n",
      "Training - Precisión con PCA: 84.05%\n"
     ]
    }
   ],
   "source": [
    "print(\"Training - Precisión con Boruta: \"+str(round(accuracy_score(y_train_Boruta,\n",
    "                                                                   GNB_Boruta.predict(x_train_Boruta))*100,2))+\"%\")\n",
    "print(\"Training - Precisión con PCA: \"+str(round(accuracy_score(y_train_PCA,\n",
    "                                                                GNB_PCA.predict(x_train_PCA))*100,2))+\"%\")"
   ]
  },
  {
   "cell_type": "code",
   "execution_count": 23,
   "metadata": {},
   "outputs": [
    {
     "name": "stdout",
     "output_type": "stream",
     "text": [
      "Test - Precisión con Boruta: 64.24%\n",
      "Test - Precisión con PCA: 89.4%\n"
     ]
    }
   ],
   "source": [
    "print(\"Test - Precisión con Boruta: \"+str(round(accuracy_score(y_test_Boruta,y_pred_Boruta)*100,2))+\"%\")\n",
    "print(\"Test - Precisión con PCA: \"+str(round(accuracy_score(y_test_PCA,y_pred_PCA)*100,2))+\"%\")"
   ]
  },
  {
   "cell_type": "code",
   "execution_count": 24,
   "metadata": {},
   "outputs": [
    {
     "data": {
      "image/png": "[encoded data removed]",
      "text/plain": [
       "<Figure size 1152x432 with 4 Axes>"
      ]
     },
     "metadata": {
      "needs_background": "light"
     },
     "output_type": "display_data"
    }
   ],
   "source": [
    "ConfusionMatrix_Boruta = confusion_matrix(y_pred_Boruta,y_test_Boruta)\n",
    "\n",
    "fig1, ax1 = plt.subplots(1,2,figsize=(16,6))\n",
    "sns.heatmap(ConfusionMatrix_Boruta,annot=True, ax = ax1[0])\n",
    "ax1[0].set_title('Naive Bayes Confusion Matrix Boruta', loc='center')\n",
    "ax1[0].set_ylabel('Test')\n",
    "ax1[0].set_xlabel('Predicted')\n",
    "\n",
    "ConfusionMatrix_PCA = confusion_matrix(y_pred_PCA,y_test_PCA)\n",
    "\n",
    "sns.heatmap(ConfusionMatrix_PCA,annot=True,ax = ax1[1])\n",
    "ax1[1].set_title('Naive Bayes Confusion Matrix PCA', loc='center')\n",
    "ax1[1].set_ylabel('Test')\n",
    "ax1[1].set_xlabel('Predicted')\n",
    "plt.show()"
   ]
  },
  {
   "cell_type": "code",
   "execution_count": 25,
   "metadata": {},
   "outputs": [
    {
     "name": "stdout",
     "output_type": "stream",
     "text": [
      "Classification_report para Naive Bayes con Boruta:\n",
      "              precision    recall  f1-score   support\n",
      "\n",
      "           N       0.36      0.79      0.50        67\n",
      "           Y       0.91      0.60      0.72       235\n",
      "\n",
      "    accuracy                           0.64       302\n",
      "   macro avg       0.64      0.70      0.61       302\n",
      "weighted avg       0.79      0.64      0.67       302\n",
      "\n",
      "Classification_report para Naive Bayes con PCA:\n",
      "              precision    recall  f1-score   support\n",
      "\n",
      "           N       0.89      0.89      0.89       147\n",
      "           Y       0.90      0.90      0.90       155\n",
      "\n",
      "    accuracy                           0.89       302\n",
      "   macro avg       0.89      0.89      0.89       302\n",
      "weighted avg       0.89      0.89      0.89       302\n",
      "\n"
     ]
    }
   ],
   "source": [
    "clf=classification_report(y_pred_Boruta,y_test_Boruta)\n",
    "print(\"Classification_report para Naive Bayes con Boruta:\")\n",
    "print(clf)\n",
    "clf_PCA=classification_report(y_pred_PCA,y_test_PCA)\n",
    "print(\"Classification_report para Naive Bayes con PCA:\")\n",
    "print(clf_PCA)"
   ]
  },
  {
   "cell_type": "markdown",
   "metadata": {},
   "source": [
    "El algoritmo de Naive Bayes no funciona muy bien con el conjunto de datos con las variables según Boruta, en cambio con el conjunto de datos de PCA se obtiene el mismo porcentaje de acierto que con otros algoritmos un 89,4% con el conjunto de test."
   ]
  },
  {
   "cell_type": "markdown",
   "metadata": {},
   "source": [
    "## 6. XGBoost "
   ]
  },
  {
   "cell_type": "markdown",
   "metadata": {},
   "source": [
    "Continuamos intentando predecir si un siniestro es fraude o no. Esta vez aplicando XGBoost:"
   ]
  },
  {
   "cell_type": "code",
   "execution_count": 26,
   "metadata": {},
   "outputs": [],
   "source": [
    "import xgboost as xgb\n",
    "\n",
    "#Iniciamos la busqueda del mejor modelo segun los parámetros a probar\n",
    "XGB_Boruta = xgb.XGBClassifier(objective ='reg:squarederror', colsample_bytree = 0.3, learning_rate = 0.1,\n",
    "                max_depth = 5, alpha = 10, n_estimators = 10)\n",
    "XGB_PCA = xgb.XGBClassifier(objective ='reg:squarederror', colsample_bytree = 0.3, learning_rate = 0.1,\n",
    "                max_depth = 5, alpha = 10, n_estimators = 10)\n",
    "\n",
    "# entrenamos el modelo\n",
    "XGB_Boruta.fit(x_train_Boruta,y_train_Boruta)\n",
    "XGB_PCA.fit(x_train_PCA,y_train_PCA)\n",
    "\n",
    "\n",
    "#Realizamos la predicción con los datos de prueba\n",
    "y_pred_Boruta = XGB_Boruta.predict(x_test_Boruta)\n",
    "y_pred_PCA = XGB_PCA.predict(x_test_PCA)\n"
   ]
  },
  {
   "cell_type": "code",
   "execution_count": 27,
   "metadata": {},
   "outputs": [
    {
     "name": "stdout",
     "output_type": "stream",
     "text": [
      "Training - Precisión con Boruta: 80.32%\n",
      "Training - Precisión con PCA: 83.97%\n"
     ]
    }
   ],
   "source": [
    "print(\"Training - Precisión con Boruta: \"+str(round(accuracy_score(y_train_Boruta,\n",
    "                                                                   XGB_Boruta.predict(x_train_Boruta))*100,2))+\"%\")\n",
    "print(\"Training - Precisión con PCA: \"+str(round(accuracy_score(y_train_PCA,\n",
    "                                                                XGB_PCA.predict(x_train_PCA))*100,2))+\"%\")"
   ]
  },
  {
   "cell_type": "code",
   "execution_count": 28,
   "metadata": {},
   "outputs": [
    {
     "name": "stdout",
     "output_type": "stream",
     "text": [
      "Test - Precisión con Boruta: 84.44%\n",
      "Test - Precisión con PCA: 89.4%\n"
     ]
    }
   ],
   "source": [
    "print(\"Test - Precisión con Boruta: \"+str(round(accuracy_score(y_test_Boruta,y_pred_Boruta)*100,2))+\"%\")\n",
    "print(\"Test - Precisión con PCA: \"+str(round(accuracy_score(y_test_PCA,y_pred_PCA)*100,2))+\"%\")"
   ]
  },
  {
   "cell_type": "code",
   "execution_count": 29,
   "metadata": {},
   "outputs": [
    {
     "data": {
      "image/png": "[encoded data removed]",
      "text/plain": [
       "<Figure size 1152x432 with 4 Axes>"
      ]
     },
     "metadata": {
      "needs_background": "light"
     },
     "output_type": "display_data"
    }
   ],
   "source": [
    "ConfusionMatrix_Boruta = confusion_matrix(y_pred_Boruta,y_test_Boruta)\n",
    "\n",
    "fig1, ax1 = plt.subplots(1,2,figsize=(16,6))\n",
    "sns.heatmap(ConfusionMatrix_Boruta,annot=True, ax = ax1[0])\n",
    "ax1[0].set_title('XGBoost Confusion Matrix Boruta', loc='center')\n",
    "ax1[0].set_ylabel('Test')\n",
    "ax1[0].set_xlabel('Predicted')\n",
    "\n",
    "ConfusionMatrix_PCA = confusion_matrix(y_pred_PCA,y_test_PCA)\n",
    "\n",
    "sns.heatmap(ConfusionMatrix_PCA,annot=True,ax = ax1[1])\n",
    "ax1[1].set_title('XGBoost Confusion Matrix PCA', loc='center')\n",
    "ax1[1].set_ylabel('Test')\n",
    "ax1[1].set_xlabel('Predicted')\n",
    "plt.show()"
   ]
  },
  {
   "cell_type": "code",
   "execution_count": 30,
   "metadata": {},
   "outputs": [
    {
     "name": "stdout",
     "output_type": "stream",
     "text": [
      "Classification_report para XGboost con Boruta:\n",
      "              precision    recall  f1-score   support\n",
      "\n",
      "           N       0.82      0.86      0.84       140\n",
      "           Y       0.87      0.83      0.85       162\n",
      "\n",
      "    accuracy                           0.84       302\n",
      "   macro avg       0.84      0.85      0.84       302\n",
      "weighted avg       0.85      0.84      0.84       302\n",
      "\n",
      "Classification_report para XGBoost con PCA:\n",
      "              precision    recall  f1-score   support\n",
      "\n",
      "           N       0.89      0.89      0.89       147\n",
      "           Y       0.90      0.90      0.90       155\n",
      "\n",
      "    accuracy                           0.89       302\n",
      "   macro avg       0.89      0.89      0.89       302\n",
      "weighted avg       0.89      0.89      0.89       302\n",
      "\n"
     ]
    }
   ],
   "source": [
    "clf=classification_report(y_pred_Boruta,y_test_Boruta)\n",
    "print(\"Classification_report para XGboost con Boruta:\")\n",
    "print(clf)\n",
    "clf_PCA=classification_report(y_pred_PCA,y_test_PCA)\n",
    "print(\"Classification_report para XGBoost con PCA:\")\n",
    "print(clf_PCA)"
   ]
  },
  {
   "cell_type": "markdown",
   "metadata": {},
   "source": [
    "Con el algoritmo XGBoost conseguimos unos resultados similares para ambos conjuntos, con un acierto superior al 80% siendo el del conjunto de datos de PCA el mejor con un 89,4% de acierto."
   ]
  },
  {
   "cell_type": "markdown",
   "metadata": {},
   "source": [
    "## 7. Conclusion\n",
    "\n",
    "En conclusion, con los algoritmos de Random Forest y con el Decision Tree se consiguen resultados cercanos al 90 % de acierto con el conjunto de datos sin PCA. Cabe destacar que con PCA, para el conjunto de datos de test, independientemente del algoritmo a utilizar se consigue un % de acierto similar y cercano al 90% de acierto."
   ]
  }
 ],
 "metadata": {
  "kernelspec": {
   "display_name": "Python 3",
   "language": "python",
   "name": "python3"
  },
  "language_info": {
   "codemirror_mode": {
    "name": "ipython",
    "version": 3
   },
   "file_extension": ".py",
   "mimetype": "text/x-python",
   "name": "python",
   "nbconvert_exporter": "python",
   "pygments_lexer": "ipython3",
   "version": "3.7.3"
  }
 },
 "nbformat": 4,
 "nbformat_minor": 2
}
